{
 "cells": [
  {
   "cell_type": "markdown",
   "metadata": {},
   "source": [
    "# Assignment 3\n",
    "\n",
    "Welcome to the assignment for week 3."
   ]
  },
  {
   "cell_type": "markdown",
   "metadata": {},
   "source": [
    "## Task 3: Hough Transform"
   ]
  },
  {
   "cell_type": "markdown",
   "metadata": {},
   "source": [
    "There are two datasets available: \"images/eye_tracking\" and \"images/lane_detection\". Implement the classical Hough Transform for lines (lane detection) and circles (eye tracking) as shown in the lecture. Use any Canny Edge Detector implementation to produce edge images.\n",
    "\n",
    "To pass this assignment, we want you to solve (Task 3.1 OR Task 3.2) AND Task 3.3. The BONUS Task 3.4 is optional as well as one of the first 2 tasks. If you are confused, just solve all of them!"
   ]
  },
  {
   "cell_type": "code",
   "execution_count": null,
   "metadata": {},
   "outputs": [],
   "source": [
    "# imports\n",
    "%matplotlib inline \n",
    "import matplotlib.pyplot as plt\n",
    "from skimage import io, feature, color, filters\n",
    "from matplotlib.patches import Circle\n",
    "from tqdm.notebook import tqdm\n",
    "from skimage.draw import line\n",
    "import math\n",
    "import numpy as np"
   ]
  },
  {
   "cell_type": "code",
   "execution_count": null,
   "metadata": {},
   "outputs": [],
   "source": [
    "# Plotting some samples\n",
    "lane1 = io.imread('images/lane_detection/f00000.png')\n",
    "lane2 = io.imread('images/lane_detection/f00050.png')\n",
    "lane3 = io.imread('images/lane_detection/f00090.png')\n",
    "eye1 = io.imread('images/eye_tracking/0000.jpeg')\n",
    "eye2 = io.imread('images/eye_tracking/0050.jpeg')\n",
    "eye3 = io.imread('images/eye_tracking/0090.jpeg')\n",
    "\n",
    "fig = plt.figure(figsize=(20, 8))\n",
    "ax11 = plt.subplot(2, 3, 1)\n",
    "ax12 = plt.subplot(2, 3, 2)\n",
    "ax13 = plt.subplot(2, 3, 3)\n",
    "ax21 = plt.subplot(2, 3, 4)\n",
    "ax22 = plt.subplot(2, 3, 5)\n",
    "ax23 = plt.subplot(2, 3, 6)\n",
    "\n",
    "ax11.imshow(lane1)\n",
    "ax12.imshow(lane2)\n",
    "ax13.imshow(lane3)\n",
    "ax21.imshow(eye1)\n",
    "ax22.imshow(eye2)\n",
    "ax23.imshow(eye3)"
   ]
  },
  {
   "cell_type": "code",
   "execution_count": null,
   "metadata": {},
   "outputs": [],
   "source": [
    "def draw_line_hessian_normal(image, a, r):\n",
    "    \n",
    "    (dimy,dimx) = image.shape\n",
    "\n",
    "    #r = x*cosa + y*sina\n",
    "\n",
    "    # compute start and end point of line \n",
    "    x0 = 0\n",
    "    y0 = round((r - x0*math.cos(math.radians(a)))/math.sin(math.radians(a)))\n",
    "    x1 = dimx\n",
    "    y1 = round((r - x1*math.cos(math.radians(a)))/math.sin(math.radians(a)))\n",
    "\n",
    "    liney,linex = line(y0,x0,y1,x1)\n",
    "    \n",
    "    ret = np.copy(image)\n",
    "    for yy in range(0,liney.size-1):\n",
    "        if (liney[yy] > 0) and (liney[yy] < dimy-1):\n",
    "            ret[liney[yy],linex[yy]] = 1\n",
    "    return ret\n",
    "\n",
    "image = np.zeros((100,100))\n",
    "image = draw_line_hessian_normal(image, 20, 60)\n",
    "image = draw_line_hessian_normal(image, 20, 10)\n",
    "image = draw_line_hessian_normal(image, 110, 0)\n",
    "image = draw_line_hessian_normal(image, -70, 10)\n",
    "io.imshow(image)"
   ]
  },
  {
   "cell_type": "markdown",
   "metadata": {},
   "source": [
    "### Task 3.1: Detecting lanes\n",
    "\n",
    "Put your Lane Detection solution here.\n",
    "\n",
    "* Use your implementation of the Hough Transform to find the 10 strongest lines in one lane_detection image\n",
    "* Display your result set (draw those lines on the image) (**RESULT**)\n",
    "* Can you improve the performance by limiting the space of solutions?"
   ]
  },
  {
   "cell_type": "code",
   "execution_count": null,
   "metadata": {},
   "outputs": [],
   "source": [
    "# code here"
   ]
  },
  {
   "cell_type": "markdown",
   "metadata": {},
   "source": [
    "### Task 3.2: Eye Tracker\n",
    "\n",
    "Put your Eye Tracker solution here.\n",
    "\n",
    "* Use your implementation of the Hough Transform to find the 10 strongest circles in one eye_tracking sample image\n",
    "* Display your result set (draw those circles on the image) (**RESULT**)\n",
    "* Can you improve the performance by limiting the space of solutions?"
   ]
  },
  {
   "cell_type": "code",
   "execution_count": null,
   "metadata": {},
   "outputs": [],
   "source": [
    "# code here"
   ]
  },
  {
   "cell_type": "markdown",
   "metadata": {},
   "source": [
    "### Task 3.3: Generalized Hough Transform\n",
    "\n",
    "* Implement the Generalized Hough Transform as described in the lecture for localizing a given template\n",
    "* Find the given template (see below) and mark its location in the image \"animals.png\" (**RESULT**)"
   ]
  },
  {
   "cell_type": "code",
   "execution_count": null,
   "metadata": {},
   "outputs": [],
   "source": [
    "animals = io.imread('images/animals.png')\n",
    "\n",
    "xmin = 1271\n",
    "xmax = 1381\n",
    "ymin = 519\n",
    "ymax = 561\n",
    "\n",
    "bat = animals[ymin:ymax, xmin:xmax]\n",
    "bat_edge = feature.canny(color.rgb2gray(bat), 2)\n",
    "\n",
    "fig = plt.figure(figsize=(15, 10))\n",
    "ax1 = plt.subplot(1, 3, 1)\n",
    "ax2 = plt.subplot(1, 3, 2)\n",
    "ax3 = plt.subplot(1, 3, 3)\n",
    "\n",
    "ax1.imshow(animals)\n",
    "ax2.imshow(bat)\n",
    "ax3.imshow(bat_edge)"
   ]
  },
  {
   "cell_type": "code",
   "execution_count": null,
   "metadata": {},
   "outputs": [],
   "source": [
    "# code here"
   ]
  },
  {
   "cell_type": "markdown",
   "metadata": {},
   "source": [
    "### Task 3.4 (BONUS) \n",
    "* Implement an extended version of the GHT that find scaled and rotated variants of the template\n",
    "* Find Italy (see \"italy.jpg\") and the map of Europe (\"europe_map_political.jpg\")\n",
    "* Note that you can binarize your italy template by using a simple color lookup\n",
    "* Draw the location of italy on the map and print its scale and rotation (**BONUS**)"
   ]
  },
  {
   "cell_type": "code",
   "execution_count": null,
   "metadata": {},
   "outputs": [],
   "source": [
    "# code here"
   ]
  },
  {
   "cell_type": "markdown",
   "metadata": {},
   "source": [
    "## Congratz, you made it! :)"
   ]
  },
  {
   "cell_type": "markdown",
   "metadata": {},
   "source": []
  }
 ],
 "metadata": {
  "kernelspec": {
   "display_name": "py312",
   "language": "python",
   "name": "python3"
  },
  "language_info": {
   "codemirror_mode": {
    "name": "ipython",
    "version": 3
   },
   "file_extension": ".py",
   "mimetype": "text/x-python",
   "name": "python",
   "nbconvert_exporter": "python",
   "pygments_lexer": "ipython3",
   "version": "3.10.14"
  }
 },
 "nbformat": 4,
 "nbformat_minor": 2
}
