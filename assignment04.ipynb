{
 "cells": [
  {
   "cell_type": "markdown",
   "metadata": {},
   "source": [
    "# Assignment 4\n",
    "\n",
    "Welcome to the assignment for week 4.\n",
    "\n",
    "To pass the assignment, you need to solve task 4.1 CAMSHIFT or 4.2 HOG. Solving both will unlock your BONUS point."
   ]
  },
  {
   "cell_type": "markdown",
   "metadata": {},
   "source": [
    "## Task 4: CAMSHIFT & HOG"
   ]
  },
  {
   "cell_type": "markdown",
   "metadata": {},
   "source": [
    "### Task 4.1: CAMSHIFT\n",
    "\n",
    "* Implement a function that creates a color histogram. Pass either an image and ROI, or the image underlying the ROI. \n",
    "* For this purpose, a second (or third) parameter can be passed to specify the number of bins. \n",
    "* Load the image \"images/racecar.png\" and convert the image to the HSV color space. Plot the Hue channel. (**RESULT**)"
   ]
  },
  {
   "cell_type": "code",
   "execution_count": null,
   "metadata": {},
   "outputs": [],
   "source": [
    "%matplotlib inline \n",
    "from skimage import io,color\n",
    "import numpy as np\n",
    "from matplotlib import pyplot as plt\n",
    "import matplotlib.patches as patches\n",
    "import os\n",
    "import warnings; warnings.simplefilter('ignore')\n",
    "\n",
    "\n",
    "IMAGES_PER_ROW = 4\n",
    "\n",
    "MIN_SATURATION_CAR = 0.2\n",
    "MIN_VALUE_CAR = 0.5\n",
    "MIN_SATURATION_TACO = 0.8\n",
    "MIN_VALUE_TACO = 0.2\n",
    "\n",
    "ROI_FRAME_MARGIN_CAR = 60\n",
    "ROI_FRAME_MARGIN_TACO = 20\n",
    "\n",
    "\n",
    "image = io.imread('images/racecar.png')\n",
    "imageCar = image[260:350, 480:640]\n",
    "\n",
    "fig = plt.figure(figsize=(15, 10))\n",
    "ax1 = plt.subplot(1, 2, 1)\n",
    "ax2 = plt.subplot(1, 2, 2)\n",
    "# ...\n",
    "\n",
    "ax1.imshow(image)\n",
    "ax2.imshow(imageCar)\n",
    "\n",
    "# ...\n",
    "\n",
    "# def createColorHistogram(img, binCount = 256, out = plt):\n",
    "\n",
    "    # ..."
   ]
  },
  {
   "cell_type": "markdown",
   "metadata": {},
   "source": [
    "* Display the histogram for the Hue channel for the entire image and for the RIO (x,y) = (480, 260) to (640, 350). Vary the number of bins for testing purposes (**RESULT**)."
   ]
  },
  {
   "cell_type": "code",
   "execution_count": null,
   "metadata": {},
   "outputs": [],
   "source": [
    "fig = plt.figure(figsize=(15, 10))\n",
    "ax1 = plt.subplot(1, 2, 1)\n",
    "ax2 = plt.subplot(1, 2, 2)\n",
    "    \n",
    "# histCar100 = createColorHistogram(imageCar, 100, ax1)\n",
    "# histCar10 = createColorHistogram(imageCar, 10, ax1)"
   ]
  },
  {
   "cell_type": "markdown",
   "metadata": {},
   "source": [
    "* Implement the method outlined in the CAMSHIFT paper to create a probability distribution for a given object's hue histogram\n",
    "* Create the histogram of the car from the image \"racecar.png\" and apply the new function to the last frame of the video (images/racecar/151.jpg) (**RESULT**)"
   ]
  },
  {
   "cell_type": "code",
   "execution_count": null,
   "metadata": {},
   "outputs": [],
   "source": [
    "# Tip: in der Nacht sind alle Katzen grau ;)\n",
    "# def createProbDistribution(image, objectHist, nbins, minSaturation, minValue):\n",
    "    #...\n",
    "            \n",
    "lastFrame = io.imread('images/racecar/151.jpeg')\n",
    "# histogramCar = createColorHistogram(imageCar, nbins, ax1)\n",
    "# probDistr = createProbDistribution(lastFrame, histogramCar, nbins, MIN_SATURATION_CAR, MIN_VALUE_CAR)\n",
    "# io.imshow(probDistr)"
   ]
  },
  {
   "cell_type": "markdown",
   "metadata": {},
   "source": [
    " * Show ROI in image!"
   ]
  },
  {
   "cell_type": "code",
   "execution_count": null,
   "metadata": {},
   "outputs": [],
   "source": [
    "def drawROI(image, x, y, width, height, out = plt):\n",
    "    currentAxis = plt.gca()\n",
    "    currentAxis.add_patch(\n",
    "        patches.Rectangle(\n",
    "            (x, y),\n",
    "            width,\n",
    "            height,\n",
    "            fill=False,\n",
    "            edgecolor=\"red\"\n",
    "        )\n",
    "    )\n",
    "    \n",
    "    out.imshow(image)\n",
    "\n",
    "# showRoiFrame(image, 480, 260, 160, 90)"
   ]
  },
  {
   "cell_type": "markdown",
   "metadata": {},
   "source": [
    "### Task 4.1.1 - Mean Shift\n",
    "* Implement the Mean Shift method for a ROI as described in the lecture. Test the algorithm on the image sequences \"images/racecar/*.jpg\" or \"images/taco/*.jpg\". Select the appropriate tracking window (to reduce the file size I have reduced the images by a factor of 2, i.e. the ROI from above must be adjusted accordingly). \n",
    "* Draw the trajectory of the objects as returned by Mean Shift. (**RESULT**)"
   ]
  },
  {
   "cell_type": "code",
   "execution_count": null,
   "metadata": {},
   "outputs": [],
   "source": [
    "# code here"
   ]
  },
  {
   "cell_type": "markdown",
   "metadata": {},
   "source": [
    "###  Task 4.1.2 - CAMSHIFT\n",
    "* Extend your algorithm by adjusting the size of the ROI and finding the object's orientation\n",
    "* Execute the algorithm again on one of the image sequences and draw an ellipse on the image, which represents the found parameters (**RESULT**)"
   ]
  },
  {
   "cell_type": "code",
   "execution_count": null,
   "metadata": {},
   "outputs": [],
   "source": [
    "# code here"
   ]
  },
  {
   "cell_type": "markdown",
   "metadata": {},
   "source": [
    "### Task 4.2: Histogram of Oriented Gradients (HOG)\n",
    "\n",
    "* Gradients and directions: First, implement the extraction of the gradient via convolution with the Sobel kernels. Translate the two result matrices into an image containing the gradient direction (one angle per pixel). Display this image for each of the three input images above. Like it fancy? Add transparency inversely proportional to the gradient magnitude (weak gradients are transparent). "
   ]
  },
  {
   "cell_type": "code",
   "execution_count": null,
   "metadata": {},
   "outputs": [],
   "source": [
    "pers1 = io.imread('images/per00002.ppm')\n",
    "pers2 = io.imread('images/per00007.ppm')\n",
    "pers3 = io.imread('images/per00014.ppm')\n",
    "\n",
    "fig = plt.figure()\n",
    "ax1 = plt.subplot(1, 3, 1)\n",
    "ax2 = plt.subplot(1, 3, 2)\n",
    "ax3 = plt.subplot(1, 3, 3)\n",
    "\n",
    "ax1.imshow(pers1)\n",
    "ax2.imshow(pers2)\n",
    "ax3.imshow(pers3)"
   ]
  },
  {
   "cell_type": "code",
   "execution_count": null,
   "metadata": {},
   "outputs": [],
   "source": [
    "# code here"
   ]
  },
  {
   "cell_type": "markdown",
   "metadata": {},
   "source": [
    "### Task 4.2.1 Gradient orientation histograms (GOHs)\n",
    "\n",
    "Now implement a function that generates GOHs on image cells. Pass a gradient direction image (as described above) to the function. The image cells should be 8 x 8 pixels in size. Please do not forget the voting with \"bi-linear interpolation\" (important!). Compute the GOH for the input image \"star.png\" with and without interpolation! Now rotate the image by -5° and compute both variants of the GOH again! What are the Euclidean differences of the histograms (original vs rotated) with and without interpolation? (**RESULT**)"
   ]
  },
  {
   "cell_type": "code",
   "execution_count": null,
   "metadata": {},
   "outputs": [],
   "source": [
    "# code here"
   ]
  },
  {
   "cell_type": "markdown",
   "metadata": {},
   "source": [
    "### Task 4.2.2 Block and ROI normalization and creation of the HOG descriptor\n",
    "* Given a fixed size ROI (128 x 64 pixels), create a descriptor as shown in the lecture (including normalization of the blocks and the total ROI). Please reuse the precalculated cell histograms for the blocks! \n",
    "* Calculate the descriptor for the three images above and for the unknown images \"unknown1.png\" and \"unknown2.png\". \n",
    "* Now compare the unknowns with the three person instances and calculate the Euclidean distance of the descriptors. Which picture has a smaller distance to the persons? (**RESULT**)"
   ]
  },
  {
   "cell_type": "code",
   "execution_count": null,
   "metadata": {},
   "outputs": [],
   "source": [
    "# code here"
   ]
  },
  {
   "cell_type": "markdown",
   "metadata": {},
   "source": [
    "## Congratz, you made it! :)"
   ]
  },
  {
   "cell_type": "markdown",
   "metadata": {},
   "source": []
  }
 ],
 "metadata": {
  "kernelspec": {
   "display_name": "py312",
   "language": "python",
   "name": "python3"
  },
  "language_info": {
   "codemirror_mode": {
    "name": "ipython",
    "version": 3
   },
   "file_extension": ".py",
   "mimetype": "text/x-python",
   "name": "python",
   "nbconvert_exporter": "python",
   "pygments_lexer": "ipython3",
   "version": "3.10.14"
  }
 },
 "nbformat": 4,
 "nbformat_minor": 2
}
