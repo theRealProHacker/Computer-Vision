{
 "cells": [
  {
   "cell_type": "markdown",
   "metadata": {},
   "source": [
    "# Assignment 5\n",
    "\n",
    "Welcome to the assignment for week 5."
   ]
  },
  {
   "cell_type": "markdown",
   "metadata": {},
   "source": [
    "## Task 5: Optical Flow"
   ]
  },
  {
   "cell_type": "markdown",
   "metadata": {},
   "source": [
    "### Task 5.1: Block Matching\n",
    "\n",
    "* Implement the block matching method as shown in the lecture\n",
    "* Take two frames from the datasets \"lane_detection\" or \"copter_flight\" with variable distances in time (1, 2, x) and compute the vector flow field\n",
    "* Display a subset of flow vectors on the gray-value version of the first image, by drawing a respective line. adjust the grid density such that not too many vectors overlap (**RESULT**)"
   ]
  },
  {
   "cell_type": "code",
   "execution_count": null,
   "metadata": {
    "vscode": {
     "languageId": "plaintext"
    }
   },
   "outputs": [],
   "source": [
    "%matplotlib inline \n",
    "import matplotlib.pyplot as plt\n",
    "from skimage import io, data, feature, color\n",
    "import numpy as np\n",
    "import matplotlib.patches as patches\n",
    "\n",
    "# Chose other images if you like\n",
    "lane1 = io.imread('images/lane_detection/f00000.png')\n",
    "lane2 = io.imread('images/lane_detection/f00001.png')\n",
    "\n",
    "copter1 = io.imread('images/copter_flight/frame050.jpg')\n",
    "copter2 = io.imread('images/copter_flight/frame052.jpg')\n",
    "\n",
    "\n",
    "fig = plt.figure(figsize=(15, 10))\n",
    "ax11 = plt.subplot(2, 2, 1)\n",
    "ax12 = plt.subplot(2, 2, 2)\n",
    "ax21 = plt.subplot(2, 2, 3)\n",
    "ax22 = plt.subplot(2, 2, 4)\n",
    "\n",
    "ax11.imshow(lane1)\n",
    "ax12.imshow(lane2)\n",
    "\n",
    "ax21.imshow(copter1)\n",
    "ax22.imshow(copter2)"
   ]
  },
  {
   "cell_type": "code",
   "execution_count": null,
   "metadata": {
    "vscode": {
     "languageId": "plaintext"
    }
   },
   "outputs": [],
   "source": [
    "# code here"
   ]
  },
  {
   "cell_type": "markdown",
   "metadata": {},
   "source": [
    "### Task 5.2: Harris Corner Detection\n",
    "\n",
    "* Implement the Harris Corner Detector as discussed in the lecture\n",
    "* Compute and Plot the Harris Corners for the the two images given at the top of this assignment (**RESULT**)"
   ]
  },
  {
   "cell_type": "code",
   "execution_count": null,
   "metadata": {
    "vscode": {
     "languageId": "plaintext"
    }
   },
   "outputs": [],
   "source": [
    "# code here"
   ]
  },
  {
   "cell_type": "markdown",
   "metadata": {},
   "source": [
    "### Task 5.3: Lucas Kanade\n",
    "\n",
    "* For the corner images from Task 5.2, track them with Lucas Kanade (feel free to use e.g. the function \"calcOpticalFlowPyrLK\" in OpenCV)\n",
    "* Mark the positions of your Harris Corners and draw the flow vectors found by Lucas-Kanade on the gray-value versions of the two images given in the beginning of this assignment (**RESULT**)\n"
   ]
  },
  {
   "cell_type": "code",
   "execution_count": null,
   "metadata": {
    "vscode": {
     "languageId": "plaintext"
    }
   },
   "outputs": [],
   "source": [
    "# code here"
   ]
  },
  {
   "cell_type": "markdown",
   "metadata": {},
   "source": [
    "## Congratz, you made it! :)"
   ]
  },
  {
   "cell_type": "markdown",
   "metadata": {},
   "source": []
  }
 ],
 "metadata": {
  "kernelspec": {
   "display_name": "py312",
   "language": "python",
   "name": "python3"
  },
  "language_info": {
   "codemirror_mode": {
    "name": "ipython",
    "version": 3
   },
   "file_extension": ".py",
   "mimetype": "text/x-python",
   "name": "python",
   "nbconvert_exporter": "python",
   "pygments_lexer": "ipython3",
   "version": "3.10.14"
  }
 },
 "nbformat": 4,
 "nbformat_minor": 2
}
