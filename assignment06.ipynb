{
 "cells": [
  {
   "cell_type": "markdown",
   "metadata": {},
   "source": [
    "# Assignment 6\n",
    "\n",
    "Welcome to the assignment for week 6."
   ]
  },
  {
   "cell_type": "markdown",
   "metadata": {},
   "source": [
    "## Task 6: Viola & Jones"
   ]
  },
  {
   "cell_type": "markdown",
   "metadata": {},
   "source": [
    "### Task. 6.1 Rectangular Features\n",
    "\n",
    "* Implement the construction of all 2-rect features (horizontal and vertical) within a given window (like the 24x24 px window from the paper)\n",
    "* How many exist? **(RESULT)** \n",
    "* Display three of these overlaid onto an image of a face. **(RESULT)**"
   ]
  },
  {
   "cell_type": "code",
   "execution_count": null,
   "metadata": {},
   "outputs": [],
   "source": [
    "# code here"
   ]
  },
  {
   "cell_type": "markdown",
   "metadata": {},
   "source": [
    "### Task 6.2: Integral Image\n",
    "\n",
    "* Implement a function that computes the integral image of a given input image. Display the integral image for an input of you choice **(RESULT)**. \n",
    "* Compare it to the output of skimage's integral_image() function. **(RESULT)**"
   ]
  },
  {
   "cell_type": "code",
   "execution_count": null,
   "metadata": {},
   "outputs": [],
   "source": [
    "# code here"
   ]
  },
  {
   "cell_type": "markdown",
   "metadata": {},
   "source": [
    "### Task 6.3: AdaBoosting\n",
    "\n",
    "* Implement the AdaBoost algorithm as outlined in the paper (https://www.face-rec.org/algorithms/Boosting-Ensemble/16981346.pdf).\n",
    "* Train a 20-feature classifier using these datasets:\n",
    "    - TinyFace for low resolution face images: https://qmul-tinyface.github.io/\n",
    "    - CIFAR10 for negative samples: https://www.cs.toronto.edu/~kriz/cifar.html\n",
    "* Test your classifier and report its performance in terms of error and accuracy **(RESULTS)**"
   ]
  },
  {
   "cell_type": "code",
   "execution_count": null,
   "metadata": {},
   "outputs": [],
   "source": [
    "# Get TinyFace using for example gdown\n",
    "# !pip install gdown\n",
    "# !gdown 1xTZc7lNmWN33ECO2AKH6FycGdiqIK7W0\n",
    "# !unzip tinyface.zip\n",
    "\n",
    "# TODO: Data Loading and simple preprocessing:\n",
    "# Prepare (some) TinyFace samples for face data and use CIFAR10 samples for non-face data\n",
    "# suggested cropping/resizing to 16x16 + grayscaling"
   ]
  },
  {
   "cell_type": "code",
   "execution_count": null,
   "metadata": {},
   "outputs": [],
   "source": [
    "# code here"
   ]
  },
  {
   "cell_type": "markdown",
   "metadata": {},
   "source": [
    "## Congratz, you made it! :)"
   ]
  },
  {
   "cell_type": "markdown",
   "metadata": {},
   "source": []
  }
 ],
 "metadata": {
  "kernelspec": {
   "display_name": "py312",
   "language": "python",
   "name": "python3"
  },
  "language_info": {
   "codemirror_mode": {
    "name": "ipython",
    "version": 3
   },
   "file_extension": ".py",
   "mimetype": "text/x-python",
   "name": "python",
   "nbconvert_exporter": "python",
   "pygments_lexer": "ipython3",
   "version": "3.10.14"
  }
 },
 "nbformat": 4,
 "nbformat_minor": 2
}
