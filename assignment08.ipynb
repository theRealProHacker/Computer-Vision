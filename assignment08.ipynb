{
 "cells": [
  {
   "cell_type": "markdown",
   "metadata": {},
   "source": [
    "# Assignment 8\n",
    "\n",
    "Welcome to the assignment for week 8."
   ]
  },
  {
   "cell_type": "markdown",
   "metadata": {},
   "source": [
    "## Task 8: Convolutional Neural Networks\n",
    "\n",
    "First, we recommend using PyTorch for this assignment, a popular machine learning framework. Should be able to install it according to the official instructions on [pytorch.org](https://pytorch.org/).\n",
    "\n",
    "It might be useful to use [Google Colab](https://colab.research.google.com), too. Google offers some compute, so you are not stuck running your programs locally. You can even use GPUs and TPUs! For this assignment, your local machine should be enough, though. In Google Colab variables might get lost when your computer disconnects from the internet or the notebook runs idle for a while. \n",
    "\n",
    "Browse through the [pytorch tutorials ](https://pytorch.org/tutorials/), they often come as colab notebooks - go and execute some!"
   ]
  },
  {
   "cell_type": "markdown",
   "metadata": {},
   "source": [
    "### Task 8.1 Training a CNN\n",
    "\n",
    "* Set up your own convolutionnal network of the following structure **(RESULT)**: \n",
    "    * 3 convolution layers \n",
    "    * 2 fully connected layers \n",
    "* We would like to see some padding, stride, pooling, drop out and batch normalization. You should use the ReLU activation function.  **(RESULT)**\n",
    "* Initialize your model, build a train and test function and display the model's performance on the MNIST classification task. **(RESULT)**"
   ]
  },
  {
   "cell_type": "code",
   "execution_count": null,
   "metadata": {},
   "outputs": [],
   "source": [
    "# imports\n",
    "import numpy as np\n",
    "import torch\n",
    "import torchvision\n",
    "# ...\n",
    "\n",
    "# Some hyperparameters that might be useful for the neural network \n",
    "# (adapt them to your needs)\n",
    "\n",
    "n_epochs = 5    # Total number of training iterations\n",
    "batch_size_train = 10   # Number of training samples utilized per iteration\n",
    "batch_size_test = 1000  # Number of test samples utilized per iteration\n",
    "learning_rate = 0.01\n",
    "momentum = 0.5  # Momentum for the optimizer (if applicable)"
   ]
  },
  {
   "cell_type": "code",
   "execution_count": null,
   "metadata": {},
   "outputs": [],
   "source": [
    "# code here"
   ]
  },
  {
   "cell_type": "markdown",
   "metadata": {},
   "source": [
    "## Congratz, you made it! :)"
   ]
  },
  {
   "cell_type": "markdown",
   "metadata": {},
   "source": []
  }
 ],
 "metadata": {
  "kernelspec": {
   "display_name": "uptodate",
   "language": "python",
   "name": "python3"
  },
  "language_info": {
   "codemirror_mode": {
    "name": "ipython",
    "version": 3
   },
   "file_extension": ".py",
   "mimetype": "text/x-python",
   "name": "python",
   "nbconvert_exporter": "python",
   "pygments_lexer": "ipython3",
   "version": "3.10.8"
  }
 },
 "nbformat": 4,
 "nbformat_minor": 2
}
