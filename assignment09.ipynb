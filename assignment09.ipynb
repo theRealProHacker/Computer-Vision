{
 "cells": [
  {
   "cell_type": "markdown",
   "metadata": {},
   "source": [
    "# Assignment 9\n",
    "\n",
    "Welcome to the assignment for week 9."
   ]
  },
  {
   "cell_type": "markdown",
   "metadata": {},
   "source": [
    "## Task 9: YOLO - You Only Look Once\n",
    "\n",
    "This week, we want you to implement the core YOLO algorithm for object detection. Feel free to stay close to the lecture and/or use information from the web. You will pass the assignment, if we see the main YOLO algorithm characteristics in your code. A well performing model is not the only factor for passing the assignment."
   ]
  },
  {
   "cell_type": "markdown",
   "metadata": {},
   "source": [
    "### Task 9.1 Prepare Multi-Object Detection Dataset (COCO)\n",
    "\n",
    "* Load and prepare the COCO dataset - for example using the PyTorch library directly: https://pytorch.org/vision/0.19/generated/torchvision.datasets.CocoDetection.html\n",
    "* Prepare the sample and target for later use and show some samples. **(RESULT)**"
   ]
  },
  {
   "cell_type": "code",
   "execution_count": 1,
   "metadata": {},
   "outputs": [],
   "source": [
    "# imports\n",
    "import torch.nn as nn\n",
    "# ..."
   ]
  },
  {
   "cell_type": "code",
   "execution_count": null,
   "metadata": {},
   "outputs": [],
   "source": [
    "# code here"
   ]
  },
  {
   "cell_type": "markdown",
   "metadata": {},
   "source": [
    "### Task 9.2 Build the YOLO pipeline\n",
    "\n",
    "* Setup a model class for your model. **(RESULT)**\n",
    "* Build a training loop and the necessary additional functions for training. **(RESULT)**\n",
    "* Run at least a few training iterations on your machine. **(RESULT)**"
   ]
  },
  {
   "cell_type": "code",
   "execution_count": null,
   "metadata": {},
   "outputs": [],
   "source": [
    "class MyYOLO(nn.Module):\n",
    "    def __init__(self):\n",
    "        super(MyYOLO, self).__init__()\n",
    "        # code here\n",
    "    \n",
    "    def forward(self, x):\n",
    "        # code here\n",
    "        return x"
   ]
  },
  {
   "cell_type": "code",
   "execution_count": null,
   "metadata": {},
   "outputs": [],
   "source": [
    "# code here"
   ]
  },
  {
   "cell_type": "markdown",
   "metadata": {},
   "source": [
    "### Task 9.3 Show your results\n",
    "\n",
    "* Plot at least two detection results on COCO samples your model has not seen. **(RESULT)**"
   ]
  },
  {
   "cell_type": "code",
   "execution_count": null,
   "metadata": {},
   "outputs": [],
   "source": [
    "# code here"
   ]
  },
  {
   "cell_type": "markdown",
   "metadata": {},
   "source": [
    "## Congratz, you made it! :)"
   ]
  },
  {
   "cell_type": "markdown",
   "metadata": {},
   "source": []
  }
 ],
 "metadata": {
  "kernelspec": {
   "display_name": "py12",
   "language": "python",
   "name": "python3"
  },
  "language_info": {
   "codemirror_mode": {
    "name": "ipython",
    "version": 3
   },
   "file_extension": ".py",
   "mimetype": "text/x-python",
   "name": "python",
   "nbconvert_exporter": "python",
   "pygments_lexer": "ipython3",
   "version": "3.12.8"
  }
 },
 "nbformat": 4,
 "nbformat_minor": 2
}
